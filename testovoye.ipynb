{
 "cells": [
  {
   "cell_type": "markdown",
   "metadata": {},
   "source": [
    "# <a id='toc1_'></a>[Проверка работы оборудования и регистрации респондентов на пиплметре](#toc0_)\n",
    "\n",
    "Необходимо:\n",
    "\n",
    "* проанализировать количество ситуаций (абс, %), когда прибор фактически выключен (данные в таблице `src_OnOff`), а респондент утверждает, что включен\n",
    "* проанализировать количество ситуаций (абс, %), когда прибор фактически включен (данные в таблице `src_OnOff`), а респондент утверждает, что выключен\n",
    "* выделить ДХ с размером более 1 человека, среди них ситуации, телевизор фактически включен, респондент по данным опроса находится в комнате с включенным телевизором, регистрации нет, а у других респондентов в этом ДХ регистрация на этом телевизоре есть. Необходимо сгруппировать результат в зависимости от размера ДХ.\n",
    "\n",
    "Для работы получены 2 файла:\n",
    "\n",
    "`src_OnOff.csv` - данные по фактическому включению/выключению пиплметра (измерительное устройство для фиксации телесмотрения).\n",
    "\n",
    "Описание полей данных:\n",
    "\n",
    "* `PassportNumber` - номер регистрационого паспорта владельца.\n",
    "* `UnitNumber` - номер телевизора в домохозяйстве (ДХ).\n",
    "* `DeviceState` - cтатус работы телевизора 'ON'/'OFF'.\n",
    "* `Begin` - дата и время его включения телевизора.\n",
    "* `End` - дата и время его выключения телевизора.\n",
    "\n",
    "`src_survey.csv` - данные с результатами опроса клиентов телевизионной компании.\n",
    "\n",
    "Описание полей данных:\n",
    "\n",
    "* `code` - код опроса клиента (порядковый номер),\n",
    "* `passport` - номер регистрационого паспорта владельца телевизора,\n",
    "* `button` - идентификатор респондента,\n",
    "* `tv state` - статус телевизора по утверждению респондента,\n",
    "* `unit` - номер телевизора в домохозяйстве,\n",
    "* `day` - дата опроса,\n",
    "* `cs_start` - время начала опроса,\n",
    "* `cs_finish` - время окончания опроса,\n",
    "* `see` - наличие фактической регистрации на пиплметре,\n",
    "* `display` - наличие респондента в комнате с телевизором согласно опросу,\n",
    "* `Кол-во человек в семье 4+` - размер ДХ, количество жильцов в доме."
   ]
  },
  {
   "cell_type": "markdown",
   "metadata": {},
   "source": [
    "**Содержание**<a id='toc0_'></a>    \n",
    "- [Проверка работы оборудования и регистрации респондентов на пиплметре](#toc1_)    \n",
    "  - [Загрузка данных](#toc1_1_)    \n",
    "  - [Предобработка](#toc1_2_)    \n",
    "  - [Анализ](#toc1_3_)    \n",
    "  - [Общий вывод](#toc1_4_)    \n",
    "\n",
    "<!-- vscode-jupyter-toc-config\n",
    "\tnumbering=false\n",
    "\tanchor=true\n",
    "\tflat=false\n",
    "\tminLevel=1\n",
    "\tmaxLevel=6\n",
    "\t/vscode-jupyter-toc-config -->\n",
    "<!-- THIS CELL WILL BE REPLACED ON TOC UPDATE. DO NOT WRITE YOUR TEXT IN THIS CELL -->"
   ]
  },
  {
   "cell_type": "markdown",
   "metadata": {},
   "source": [
    "## <a id='toc1_1_'></a>[Загрузка данных](#toc0_)"
   ]
  },
  {
   "cell_type": "code",
   "execution_count": 1,
   "metadata": {},
   "outputs": [],
   "source": [
    "# импорт библиотек\n",
    "import pandas as pd \n",
    "from datetime import datetime\n",
    "import tqdm\n",
    "import time\n",
    "import numpy as np\n",
    "import seaborn as sns\n",
    "import matplotlib.pyplot as plt\n",
    "from scipy import stats as st\n",
    "import warnings\n",
    "warnings.filterwarnings(\"ignore\")"
   ]
  },
  {
   "cell_type": "code",
   "execution_count": 2,
   "metadata": {},
   "outputs": [],
   "source": [
    "# настроим вид таблиц\n",
    "pd.set_option(\"display.max_rows\", 250)\n",
    "pd.set_option(\"display.max_columns\", 50)"
   ]
  },
  {
   "cell_type": "code",
   "execution_count": 3,
   "metadata": {},
   "outputs": [
    {
     "data": {
      "text/html": [
       "<div>\n",
       "<style scoped>\n",
       "    .dataframe tbody tr th:only-of-type {\n",
       "        vertical-align: middle;\n",
       "    }\n",
       "\n",
       "    .dataframe tbody tr th {\n",
       "        vertical-align: top;\n",
       "    }\n",
       "\n",
       "    .dataframe thead th {\n",
       "        text-align: right;\n",
       "    }\n",
       "</style>\n",
       "<table border=\"1\" class=\"dataframe\">\n",
       "  <thead>\n",
       "    <tr style=\"text-align: right;\">\n",
       "      <th></th>\n",
       "      <th>PassportNumber</th>\n",
       "      <th>UnitNumber</th>\n",
       "      <th>DeviceState</th>\n",
       "      <th>Begin</th>\n",
       "      <th>End</th>\n",
       "    </tr>\n",
       "  </thead>\n",
       "  <tbody>\n",
       "    <tr>\n",
       "      <th>0</th>\n",
       "      <td>10100003</td>\n",
       "      <td>0</td>\n",
       "      <td>OFF</td>\n",
       "      <td>2022-02-07 02:00:00.000</td>\n",
       "      <td>2022-02-08 02:00:00.000</td>\n",
       "    </tr>\n",
       "    <tr>\n",
       "      <th>1</th>\n",
       "      <td>10100003</td>\n",
       "      <td>0</td>\n",
       "      <td>OFF</td>\n",
       "      <td>2022-02-08 02:00:00.000</td>\n",
       "      <td>2022-02-08 11:48:42.000</td>\n",
       "    </tr>\n",
       "    <tr>\n",
       "      <th>2</th>\n",
       "      <td>10100003</td>\n",
       "      <td>0</td>\n",
       "      <td>ON</td>\n",
       "      <td>2022-02-08 11:48:42.000</td>\n",
       "      <td>2022-02-08 12:36:55.000</td>\n",
       "    </tr>\n",
       "    <tr>\n",
       "      <th>3</th>\n",
       "      <td>10100003</td>\n",
       "      <td>0</td>\n",
       "      <td>OFF</td>\n",
       "      <td>2022-02-08 12:36:55.000</td>\n",
       "      <td>2022-02-08 22:05:17.000</td>\n",
       "    </tr>\n",
       "    <tr>\n",
       "      <th>4</th>\n",
       "      <td>10100003</td>\n",
       "      <td>0</td>\n",
       "      <td>ON</td>\n",
       "      <td>2022-02-08 22:05:17.000</td>\n",
       "      <td>2022-02-08 23:48:03.000</td>\n",
       "    </tr>\n",
       "  </tbody>\n",
       "</table>\n",
       "</div>"
      ],
      "text/plain": [
       "   PassportNumber  UnitNumber DeviceState                    Begin  \\\n",
       "0        10100003           0         OFF  2022-02-07 02:00:00.000   \n",
       "1        10100003           0         OFF  2022-02-08 02:00:00.000   \n",
       "2        10100003           0          ON  2022-02-08 11:48:42.000   \n",
       "3        10100003           0         OFF  2022-02-08 12:36:55.000   \n",
       "4        10100003           0          ON  2022-02-08 22:05:17.000   \n",
       "\n",
       "                       End  \n",
       "0  2022-02-08 02:00:00.000  \n",
       "1  2022-02-08 11:48:42.000  \n",
       "2  2022-02-08 12:36:55.000  \n",
       "3  2022-02-08 22:05:17.000  \n",
       "4  2022-02-08 23:48:03.000  "
      ]
     },
     "metadata": {},
     "output_type": "display_data"
    },
    {
     "name": "stdout",
     "output_type": "stream",
     "text": [
      "<class 'pandas.core.frame.DataFrame'>\n",
      "RangeIndex: 642134 entries, 0 to 642133\n",
      "Data columns (total 5 columns):\n",
      " #   Column          Non-Null Count   Dtype \n",
      "---  ------          --------------   ----- \n",
      " 0   PassportNumber  642134 non-null  int64 \n",
      " 1   UnitNumber      642134 non-null  int64 \n",
      " 2   DeviceState     642134 non-null  object\n",
      " 3   Begin           642134 non-null  object\n",
      " 4   End             642134 non-null  object\n",
      "dtypes: int64(2), object(3)\n",
      "memory usage: 24.5+ MB\n"
     ]
    },
    {
     "data": {
      "text/plain": [
       "None"
      ]
     },
     "metadata": {},
     "output_type": "display_data"
    }
   ],
   "source": [
    "# отображение основной информациии\n",
    "onoff = pd.read_excel('src_OnOff.xlsx')\n",
    "display(onoff.head())\n",
    "display(onoff.info())"
   ]
  },
  {
   "cell_type": "code",
   "execution_count": 4,
   "metadata": {},
   "outputs": [
    {
     "data": {
      "text/html": [
       "<div>\n",
       "<style scoped>\n",
       "    .dataframe tbody tr th:only-of-type {\n",
       "        vertical-align: middle;\n",
       "    }\n",
       "\n",
       "    .dataframe tbody tr th {\n",
       "        vertical-align: top;\n",
       "    }\n",
       "\n",
       "    .dataframe thead th {\n",
       "        text-align: right;\n",
       "    }\n",
       "</style>\n",
       "<table border=\"1\" class=\"dataframe\">\n",
       "  <thead>\n",
       "    <tr style=\"text-align: right;\">\n",
       "      <th></th>\n",
       "      <th>code</th>\n",
       "      <th>passport</th>\n",
       "      <th>button</th>\n",
       "      <th>tv state</th>\n",
       "      <th>unit</th>\n",
       "      <th>day</th>\n",
       "      <th>cs_start</th>\n",
       "      <th>cs_finish</th>\n",
       "      <th>see</th>\n",
       "      <th>display</th>\n",
       "      <th>Кол-во человек в семье 4+</th>\n",
       "    </tr>\n",
       "  </thead>\n",
       "  <tbody>\n",
       "    <tr>\n",
       "      <th>0</th>\n",
       "      <td>258104</td>\n",
       "      <td>1204558</td>\n",
       "      <td>А</td>\n",
       "      <td>выключен</td>\n",
       "      <td>0</td>\n",
       "      <td>07.02.22</td>\n",
       "      <td>16:25:18</td>\n",
       "      <td>16:26:09</td>\n",
       "      <td>нет регистрации</td>\n",
       "      <td>нет в комнате</td>\n",
       "      <td>1</td>\n",
       "    </tr>\n",
       "    <tr>\n",
       "      <th>1</th>\n",
       "      <td>258106</td>\n",
       "      <td>1205697</td>\n",
       "      <td>Б</td>\n",
       "      <td>включён</td>\n",
       "      <td>0</td>\n",
       "      <td>07.02.22</td>\n",
       "      <td>16:50:18</td>\n",
       "      <td>16:53:17</td>\n",
       "      <td>нет регистрации</td>\n",
       "      <td>в комнате</td>\n",
       "      <td>3</td>\n",
       "    </tr>\n",
       "    <tr>\n",
       "      <th>2</th>\n",
       "      <td>258106</td>\n",
       "      <td>1205697</td>\n",
       "      <td>А</td>\n",
       "      <td>включён</td>\n",
       "      <td>0</td>\n",
       "      <td>07.02.22</td>\n",
       "      <td>16:50:18</td>\n",
       "      <td>16:53:17</td>\n",
       "      <td>нет регистрации</td>\n",
       "      <td>нет в комнате</td>\n",
       "      <td>3</td>\n",
       "    </tr>\n",
       "    <tr>\n",
       "      <th>3</th>\n",
       "      <td>258106</td>\n",
       "      <td>1205697</td>\n",
       "      <td>В</td>\n",
       "      <td>включён</td>\n",
       "      <td>0</td>\n",
       "      <td>07.02.22</td>\n",
       "      <td>16:50:18</td>\n",
       "      <td>16:53:17</td>\n",
       "      <td>нет регистрации</td>\n",
       "      <td>в комнате</td>\n",
       "      <td>3</td>\n",
       "    </tr>\n",
       "    <tr>\n",
       "      <th>4</th>\n",
       "      <td>258109</td>\n",
       "      <td>1206994</td>\n",
       "      <td>А</td>\n",
       "      <td>выключен</td>\n",
       "      <td>1</td>\n",
       "      <td>2022-02-08 00:00:00</td>\n",
       "      <td>03:05:31</td>\n",
       "      <td>03:06:58</td>\n",
       "      <td>нет регистрации</td>\n",
       "      <td>нет в комнате</td>\n",
       "      <td>1</td>\n",
       "    </tr>\n",
       "  </tbody>\n",
       "</table>\n",
       "</div>"
      ],
      "text/plain": [
       "     code  passport button  tv state  unit                  day  cs_start  \\\n",
       "0  258104   1204558      А  выключен     0             07.02.22  16:25:18   \n",
       "1  258106   1205697      Б   включён     0             07.02.22  16:50:18   \n",
       "2  258106   1205697      А   включён     0             07.02.22  16:50:18   \n",
       "3  258106   1205697      В   включён     0             07.02.22  16:50:18   \n",
       "4  258109   1206994      А  выключен     1  2022-02-08 00:00:00  03:05:31   \n",
       "\n",
       "  cs_finish              see        display  Кол-во человек в семье 4+  \n",
       "0  16:26:09  нет регистрации  нет в комнате                          1  \n",
       "1  16:53:17  нет регистрации      в комнате                          3  \n",
       "2  16:53:17  нет регистрации  нет в комнате                          3  \n",
       "3  16:53:17  нет регистрации      в комнате                          3  \n",
       "4  03:06:58  нет регистрации  нет в комнате                          1  "
      ]
     },
     "metadata": {},
     "output_type": "display_data"
    },
    {
     "name": "stdout",
     "output_type": "stream",
     "text": [
      "<class 'pandas.core.frame.DataFrame'>\n",
      "RangeIndex: 207 entries, 0 to 206\n",
      "Data columns (total 11 columns):\n",
      " #   Column                     Non-Null Count  Dtype \n",
      "---  ------                     --------------  ----- \n",
      " 0   code                       207 non-null    int64 \n",
      " 1   passport                   207 non-null    int64 \n",
      " 2   button                     207 non-null    object\n",
      " 3   tv state                   207 non-null    object\n",
      " 4   unit                       207 non-null    int64 \n",
      " 5   day                        207 non-null    object\n",
      " 6   cs_start                   207 non-null    object\n",
      " 7   cs_finish                  207 non-null    object\n",
      " 8   see                        207 non-null    object\n",
      " 9   display                    207 non-null    object\n",
      " 10  Кол-во человек в семье 4+  207 non-null    int64 \n",
      "dtypes: int64(4), object(7)\n",
      "memory usage: 17.9+ KB\n"
     ]
    },
    {
     "data": {
      "text/plain": [
       "None"
      ]
     },
     "metadata": {},
     "output_type": "display_data"
    }
   ],
   "source": [
    "# отображение основной информациии\n",
    "sur = pd.read_excel('src_survey.xlsx')\n",
    "display(sur.head())\n",
    "display(sur.info())"
   ]
  },
  {
   "cell_type": "markdown",
   "metadata": {},
   "source": [
    "В файле src_OnOff.csv находится 642_134 записи по фактическому включению/выключению пиплметра, а в файле src_survey.csv - выборка из 207 записей с результатами опроса клиентов телевизионной компании."
   ]
  },
  {
   "cell_type": "markdown",
   "metadata": {},
   "source": [
    "## <a id='toc1_2_'></a>[Предобработка](#toc0_)"
   ]
  },
  {
   "cell_type": "code",
   "execution_count": 5,
   "metadata": {},
   "outputs": [
    {
     "data": {
      "text/plain": [
       "'_____________информация________________'"
      ]
     },
     "metadata": {},
     "output_type": "display_data"
    },
    {
     "name": "stdout",
     "output_type": "stream",
     "text": [
      "<class 'pandas.core.frame.DataFrame'>\n",
      "RangeIndex: 642134 entries, 0 to 642133\n",
      "Data columns (total 5 columns):\n",
      " #   Column          Non-Null Count   Dtype \n",
      "---  ------          --------------   ----- \n",
      " 0   PassportNumber  642134 non-null  int64 \n",
      " 1   UnitNumber      642134 non-null  int64 \n",
      " 2   DeviceState     642134 non-null  object\n",
      " 3   Begin           642134 non-null  object\n",
      " 4   End             642134 non-null  object\n",
      "dtypes: int64(2), object(3)\n",
      "memory usage: 24.5+ MB\n"
     ]
    },
    {
     "data": {
      "text/plain": [
       "None"
      ]
     },
     "metadata": {},
     "output_type": "display_data"
    },
    {
     "data": {
      "text/plain": [
       "'______________статистика_______________'"
      ]
     },
     "metadata": {},
     "output_type": "display_data"
    },
    {
     "data": {
      "text/html": [
       "<div>\n",
       "<style scoped>\n",
       "    .dataframe tbody tr th:only-of-type {\n",
       "        vertical-align: middle;\n",
       "    }\n",
       "\n",
       "    .dataframe tbody tr th {\n",
       "        vertical-align: top;\n",
       "    }\n",
       "\n",
       "    .dataframe thead th {\n",
       "        text-align: right;\n",
       "    }\n",
       "</style>\n",
       "<table border=\"1\" class=\"dataframe\">\n",
       "  <thead>\n",
       "    <tr style=\"text-align: right;\">\n",
       "      <th></th>\n",
       "      <th>count</th>\n",
       "      <th>mean</th>\n",
       "      <th>std</th>\n",
       "      <th>min</th>\n",
       "      <th>25%</th>\n",
       "      <th>50%</th>\n",
       "      <th>75%</th>\n",
       "      <th>max</th>\n",
       "    </tr>\n",
       "  </thead>\n",
       "  <tbody>\n",
       "    <tr>\n",
       "      <th>PassportNumber</th>\n",
       "      <td>642134.0</td>\n",
       "      <td>5.953429e+06</td>\n",
       "      <td>5.894439e+06</td>\n",
       "      <td>100657.0</td>\n",
       "      <td>1210798.0</td>\n",
       "      <td>3400262.0</td>\n",
       "      <td>10400265.0</td>\n",
       "      <td>19900450.0</td>\n",
       "    </tr>\n",
       "    <tr>\n",
       "      <th>UnitNumber</th>\n",
       "      <td>642134.0</td>\n",
       "      <td>4.385751e-01</td>\n",
       "      <td>6.726274e-01</td>\n",
       "      <td>0.0</td>\n",
       "      <td>0.0</td>\n",
       "      <td>0.0</td>\n",
       "      <td>1.0</td>\n",
       "      <td>6.0</td>\n",
       "    </tr>\n",
       "  </tbody>\n",
       "</table>\n",
       "</div>"
      ],
      "text/plain": [
       "                   count          mean           std       min        25%  \\\n",
       "PassportNumber  642134.0  5.953429e+06  5.894439e+06  100657.0  1210798.0   \n",
       "UnitNumber      642134.0  4.385751e-01  6.726274e-01       0.0        0.0   \n",
       "\n",
       "                      50%         75%         max  \n",
       "PassportNumber  3400262.0  10400265.0  19900450.0  \n",
       "UnitNumber            0.0         1.0         6.0  "
      ]
     },
     "metadata": {},
     "output_type": "display_data"
    },
    {
     "data": {
      "text/plain": [
       "'______________выборка__________________'"
      ]
     },
     "metadata": {},
     "output_type": "display_data"
    },
    {
     "data": {
      "text/html": [
       "<div>\n",
       "<style scoped>\n",
       "    .dataframe tbody tr th:only-of-type {\n",
       "        vertical-align: middle;\n",
       "    }\n",
       "\n",
       "    .dataframe tbody tr th {\n",
       "        vertical-align: top;\n",
       "    }\n",
       "\n",
       "    .dataframe thead th {\n",
       "        text-align: right;\n",
       "    }\n",
       "</style>\n",
       "<table border=\"1\" class=\"dataframe\">\n",
       "  <thead>\n",
       "    <tr style=\"text-align: right;\">\n",
       "      <th></th>\n",
       "      <th>PassportNumber</th>\n",
       "      <th>UnitNumber</th>\n",
       "      <th>DeviceState</th>\n",
       "      <th>Begin</th>\n",
       "      <th>End</th>\n",
       "    </tr>\n",
       "  </thead>\n",
       "  <tbody>\n",
       "    <tr>\n",
       "      <th>3670</th>\n",
       "      <td>10100335</td>\n",
       "      <td>0</td>\n",
       "      <td>OFF</td>\n",
       "      <td>2022-02-09 10:12:46.000</td>\n",
       "      <td>2022-02-09 10:13:27.000</td>\n",
       "    </tr>\n",
       "    <tr>\n",
       "      <th>550939</th>\n",
       "      <td>5500236</td>\n",
       "      <td>1</td>\n",
       "      <td>OFF</td>\n",
       "      <td>2022-02-07 18:15:23.000</td>\n",
       "      <td>2022-02-07 22:32:26.000</td>\n",
       "    </tr>\n",
       "    <tr>\n",
       "      <th>78991</th>\n",
       "      <td>14600827</td>\n",
       "      <td>0</td>\n",
       "      <td>OFF</td>\n",
       "      <td>2022-02-15 13:35:23.000</td>\n",
       "      <td>2022-02-15 14:05:18.000</td>\n",
       "    </tr>\n",
       "    <tr>\n",
       "      <th>411568</th>\n",
       "      <td>301473</td>\n",
       "      <td>0</td>\n",
       "      <td>ON</td>\n",
       "      <td>2022-02-14 22:35:04.000</td>\n",
       "      <td>2022-02-14 23:00:10.000</td>\n",
       "    </tr>\n",
       "    <tr>\n",
       "      <th>597481</th>\n",
       "      <td>7800592</td>\n",
       "      <td>1</td>\n",
       "      <td>ON</td>\n",
       "      <td>2022-02-14 13:36:21.000</td>\n",
       "      <td>2022-02-14 16:50:16.000</td>\n",
       "    </tr>\n",
       "  </tbody>\n",
       "</table>\n",
       "</div>"
      ],
      "text/plain": [
       "        PassportNumber  UnitNumber DeviceState                    Begin  \\\n",
       "3670          10100335           0         OFF  2022-02-09 10:12:46.000   \n",
       "550939         5500236           1         OFF  2022-02-07 18:15:23.000   \n",
       "78991         14600827           0         OFF  2022-02-15 13:35:23.000   \n",
       "411568          301473           0          ON  2022-02-14 22:35:04.000   \n",
       "597481         7800592           1          ON  2022-02-14 13:36:21.000   \n",
       "\n",
       "                            End  \n",
       "3670    2022-02-09 10:13:27.000  \n",
       "550939  2022-02-07 22:32:26.000  \n",
       "78991   2022-02-15 14:05:18.000  \n",
       "411568  2022-02-14 23:00:10.000  \n",
       "597481  2022-02-14 16:50:16.000  "
      ]
     },
     "metadata": {},
     "output_type": "display_data"
    },
    {
     "data": {
      "text/plain": [
       "'___________конец таблицы_______________'"
      ]
     },
     "metadata": {},
     "output_type": "display_data"
    },
    {
     "data": {
      "text/html": [
       "<div>\n",
       "<style scoped>\n",
       "    .dataframe tbody tr th:only-of-type {\n",
       "        vertical-align: middle;\n",
       "    }\n",
       "\n",
       "    .dataframe tbody tr th {\n",
       "        vertical-align: top;\n",
       "    }\n",
       "\n",
       "    .dataframe thead th {\n",
       "        text-align: right;\n",
       "    }\n",
       "</style>\n",
       "<table border=\"1\" class=\"dataframe\">\n",
       "  <thead>\n",
       "    <tr style=\"text-align: right;\">\n",
       "      <th></th>\n",
       "      <th>PassportNumber</th>\n",
       "      <th>UnitNumber</th>\n",
       "      <th>DeviceState</th>\n",
       "      <th>Begin</th>\n",
       "      <th>End</th>\n",
       "    </tr>\n",
       "  </thead>\n",
       "  <tbody>\n",
       "    <tr>\n",
       "      <th>642129</th>\n",
       "      <td>502286</td>\n",
       "      <td>0</td>\n",
       "      <td>OFF</td>\n",
       "      <td>2022-02-15 20:16:01.000</td>\n",
       "      <td>2022-02-15 20:53:31.000</td>\n",
       "    </tr>\n",
       "    <tr>\n",
       "      <th>642130</th>\n",
       "      <td>502286</td>\n",
       "      <td>0</td>\n",
       "      <td>ON</td>\n",
       "      <td>2022-02-15 20:53:31.000</td>\n",
       "      <td>2022-02-15 21:43:15.000</td>\n",
       "    </tr>\n",
       "    <tr>\n",
       "      <th>642131</th>\n",
       "      <td>502286</td>\n",
       "      <td>0</td>\n",
       "      <td>OFF</td>\n",
       "      <td>2022-02-15 21:43:15.000</td>\n",
       "      <td>2022-02-15 22:09:59.000</td>\n",
       "    </tr>\n",
       "    <tr>\n",
       "      <th>642132</th>\n",
       "      <td>502286</td>\n",
       "      <td>0</td>\n",
       "      <td>ON</td>\n",
       "      <td>2022-02-15 22:09:59.000</td>\n",
       "      <td>2022-02-15 22:19:33.000</td>\n",
       "    </tr>\n",
       "    <tr>\n",
       "      <th>642133</th>\n",
       "      <td>502286</td>\n",
       "      <td>0</td>\n",
       "      <td>OFF</td>\n",
       "      <td>2022-02-15 22:19:33.000</td>\n",
       "      <td>2022-02-16 02:00:00.000</td>\n",
       "    </tr>\n",
       "  </tbody>\n",
       "</table>\n",
       "</div>"
      ],
      "text/plain": [
       "        PassportNumber  UnitNumber DeviceState                    Begin  \\\n",
       "642129          502286           0         OFF  2022-02-15 20:16:01.000   \n",
       "642130          502286           0          ON  2022-02-15 20:53:31.000   \n",
       "642131          502286           0         OFF  2022-02-15 21:43:15.000   \n",
       "642132          502286           0          ON  2022-02-15 22:09:59.000   \n",
       "642133          502286           0         OFF  2022-02-15 22:19:33.000   \n",
       "\n",
       "                            End  \n",
       "642129  2022-02-15 20:53:31.000  \n",
       "642130  2022-02-15 21:43:15.000  \n",
       "642131  2022-02-15 22:09:59.000  \n",
       "642132  2022-02-15 22:19:33.000  \n",
       "642133  2022-02-16 02:00:00.000  "
      ]
     },
     "metadata": {},
     "output_type": "display_data"
    },
    {
     "data": {
      "text/plain": [
       "'_____________пропуски__________________'"
      ]
     },
     "metadata": {},
     "output_type": "display_data"
    },
    {
     "data": {
      "text/html": [
       "<div>\n",
       "<style scoped>\n",
       "    .dataframe tbody tr th:only-of-type {\n",
       "        vertical-align: middle;\n",
       "    }\n",
       "\n",
       "    .dataframe tbody tr th {\n",
       "        vertical-align: top;\n",
       "    }\n",
       "\n",
       "    .dataframe thead th {\n",
       "        text-align: right;\n",
       "    }\n",
       "</style>\n",
       "<table border=\"1\" class=\"dataframe\">\n",
       "  <thead>\n",
       "    <tr style=\"text-align: right;\">\n",
       "      <th></th>\n",
       "      <th>index</th>\n",
       "      <th>0</th>\n",
       "    </tr>\n",
       "  </thead>\n",
       "  <tbody>\n",
       "    <tr>\n",
       "      <th>0</th>\n",
       "      <td>PassportNumber</td>\n",
       "      <td>0</td>\n",
       "    </tr>\n",
       "    <tr>\n",
       "      <th>1</th>\n",
       "      <td>UnitNumber</td>\n",
       "      <td>0</td>\n",
       "    </tr>\n",
       "    <tr>\n",
       "      <th>2</th>\n",
       "      <td>DeviceState</td>\n",
       "      <td>0</td>\n",
       "    </tr>\n",
       "    <tr>\n",
       "      <th>3</th>\n",
       "      <td>Begin</td>\n",
       "      <td>0</td>\n",
       "    </tr>\n",
       "    <tr>\n",
       "      <th>4</th>\n",
       "      <td>End</td>\n",
       "      <td>0</td>\n",
       "    </tr>\n",
       "  </tbody>\n",
       "</table>\n",
       "</div>"
      ],
      "text/plain": [
       "            index  0\n",
       "0  PassportNumber  0\n",
       "1      UnitNumber  0\n",
       "2     DeviceState  0\n",
       "3           Begin  0\n",
       "4             End  0"
      ]
     },
     "metadata": {},
     "output_type": "display_data"
    },
    {
     "data": {
      "text/plain": [
       "'_____________дубликаты_________________'"
      ]
     },
     "metadata": {},
     "output_type": "display_data"
    },
    {
     "data": {
      "text/plain": [
       "0"
      ]
     },
     "metadata": {},
     "output_type": "display_data"
    },
    {
     "data": {
      "text/plain": [
       "'доля пропущенных значений по каждому из столбцов'"
      ]
     },
     "metadata": {},
     "output_type": "display_data"
    },
    {
     "data": {
      "text/html": [
       "<div>\n",
       "<style scoped>\n",
       "    .dataframe tbody tr th:only-of-type {\n",
       "        vertical-align: middle;\n",
       "    }\n",
       "\n",
       "    .dataframe tbody tr th {\n",
       "        vertical-align: top;\n",
       "    }\n",
       "\n",
       "    .dataframe thead th {\n",
       "        text-align: right;\n",
       "    }\n",
       "</style>\n",
       "<table border=\"1\" class=\"dataframe\">\n",
       "  <thead>\n",
       "    <tr style=\"text-align: right;\">\n",
       "      <th></th>\n",
       "      <th>index</th>\n",
       "      <th>0</th>\n",
       "    </tr>\n",
       "  </thead>\n",
       "  <tbody>\n",
       "    <tr>\n",
       "      <th>0</th>\n",
       "      <td>PassportNumber</td>\n",
       "      <td>0.0</td>\n",
       "    </tr>\n",
       "    <tr>\n",
       "      <th>1</th>\n",
       "      <td>UnitNumber</td>\n",
       "      <td>0.0</td>\n",
       "    </tr>\n",
       "    <tr>\n",
       "      <th>2</th>\n",
       "      <td>DeviceState</td>\n",
       "      <td>0.0</td>\n",
       "    </tr>\n",
       "    <tr>\n",
       "      <th>3</th>\n",
       "      <td>Begin</td>\n",
       "      <td>0.0</td>\n",
       "    </tr>\n",
       "    <tr>\n",
       "      <th>4</th>\n",
       "      <td>End</td>\n",
       "      <td>0.0</td>\n",
       "    </tr>\n",
       "  </tbody>\n",
       "</table>\n",
       "</div>"
      ],
      "text/plain": [
       "            index    0\n",
       "0  PassportNumber  0.0\n",
       "1      UnitNumber  0.0\n",
       "2     DeviceState  0.0\n",
       "3           Begin  0.0\n",
       "4             End  0.0"
      ]
     },
     "metadata": {},
     "output_type": "display_data"
    },
    {
     "data": {
      "text/plain": [
       "'_______число уникальных значений_______'"
      ]
     },
     "metadata": {},
     "output_type": "display_data"
    },
    {
     "data": {
      "text/plain": [
       "PassportNumber      7698\n",
       "UnitNumber             7\n",
       "DeviceState            4\n",
       "Begin             371129\n",
       "End               371129\n",
       "dtype: int64"
      ]
     },
     "metadata": {},
     "output_type": "display_data"
    },
    {
     "data": {
      "text/plain": [
       "'_________________КОНЕЦ________________'"
      ]
     },
     "metadata": {},
     "output_type": "display_data"
    },
    {
     "data": {
      "text/plain": [
       "'_____________информация________________'"
      ]
     },
     "metadata": {},
     "output_type": "display_data"
    },
    {
     "name": "stdout",
     "output_type": "stream",
     "text": [
      "<class 'pandas.core.frame.DataFrame'>\n",
      "RangeIndex: 207 entries, 0 to 206\n",
      "Data columns (total 11 columns):\n",
      " #   Column                     Non-Null Count  Dtype \n",
      "---  ------                     --------------  ----- \n",
      " 0   code                       207 non-null    int64 \n",
      " 1   passport                   207 non-null    int64 \n",
      " 2   button                     207 non-null    object\n",
      " 3   tv state                   207 non-null    object\n",
      " 4   unit                       207 non-null    int64 \n",
      " 5   day                        207 non-null    object\n",
      " 6   cs_start                   207 non-null    object\n",
      " 7   cs_finish                  207 non-null    object\n",
      " 8   see                        207 non-null    object\n",
      " 9   display                    207 non-null    object\n",
      " 10  Кол-во человек в семье 4+  207 non-null    int64 \n",
      "dtypes: int64(4), object(7)\n",
      "memory usage: 17.9+ KB\n"
     ]
    },
    {
     "data": {
      "text/plain": [
       "None"
      ]
     },
     "metadata": {},
     "output_type": "display_data"
    },
    {
     "data": {
      "text/plain": [
       "'______________статистика_______________'"
      ]
     },
     "metadata": {},
     "output_type": "display_data"
    },
    {
     "data": {
      "text/html": [
       "<div>\n",
       "<style scoped>\n",
       "    .dataframe tbody tr th:only-of-type {\n",
       "        vertical-align: middle;\n",
       "    }\n",
       "\n",
       "    .dataframe tbody tr th {\n",
       "        vertical-align: top;\n",
       "    }\n",
       "\n",
       "    .dataframe thead th {\n",
       "        text-align: right;\n",
       "    }\n",
       "</style>\n",
       "<table border=\"1\" class=\"dataframe\">\n",
       "  <thead>\n",
       "    <tr style=\"text-align: right;\">\n",
       "      <th></th>\n",
       "      <th>count</th>\n",
       "      <th>mean</th>\n",
       "      <th>std</th>\n",
       "      <th>min</th>\n",
       "      <th>25%</th>\n",
       "      <th>50%</th>\n",
       "      <th>75%</th>\n",
       "      <th>max</th>\n",
       "    </tr>\n",
       "  </thead>\n",
       "  <tbody>\n",
       "    <tr>\n",
       "      <th>code</th>\n",
       "      <td>207.0</td>\n",
       "      <td>2.583801e+05</td>\n",
       "      <td>195.335530</td>\n",
       "      <td>258104.0</td>\n",
       "      <td>258128.0</td>\n",
       "      <td>258514.0</td>\n",
       "      <td>258533.0</td>\n",
       "      <td>258552.0</td>\n",
       "    </tr>\n",
       "    <tr>\n",
       "      <th>passport</th>\n",
       "      <td>207.0</td>\n",
       "      <td>1.209349e+06</td>\n",
       "      <td>2196.281386</td>\n",
       "      <td>1203959.0</td>\n",
       "      <td>1208518.0</td>\n",
       "      <td>1209909.0</td>\n",
       "      <td>1210965.0</td>\n",
       "      <td>1212916.0</td>\n",
       "    </tr>\n",
       "    <tr>\n",
       "      <th>unit</th>\n",
       "      <td>207.0</td>\n",
       "      <td>6.473430e-01</td>\n",
       "      <td>0.728264</td>\n",
       "      <td>0.0</td>\n",
       "      <td>0.0</td>\n",
       "      <td>0.0</td>\n",
       "      <td>1.0</td>\n",
       "      <td>2.0</td>\n",
       "    </tr>\n",
       "    <tr>\n",
       "      <th>Кол-во человек в семье 4+</th>\n",
       "      <td>207.0</td>\n",
       "      <td>3.207729e+00</td>\n",
       "      <td>1.333052</td>\n",
       "      <td>1.0</td>\n",
       "      <td>2.0</td>\n",
       "      <td>3.0</td>\n",
       "      <td>4.0</td>\n",
       "      <td>7.0</td>\n",
       "    </tr>\n",
       "  </tbody>\n",
       "</table>\n",
       "</div>"
      ],
      "text/plain": [
       "                           count          mean          std        min  \\\n",
       "code                       207.0  2.583801e+05   195.335530   258104.0   \n",
       "passport                   207.0  1.209349e+06  2196.281386  1203959.0   \n",
       "unit                       207.0  6.473430e-01     0.728264        0.0   \n",
       "Кол-во человек в семье 4+  207.0  3.207729e+00     1.333052        1.0   \n",
       "\n",
       "                                 25%        50%        75%        max  \n",
       "code                        258128.0   258514.0   258533.0   258552.0  \n",
       "passport                   1208518.0  1209909.0  1210965.0  1212916.0  \n",
       "unit                             0.0        0.0        1.0        2.0  \n",
       "Кол-во человек в семье 4+        2.0        3.0        4.0        7.0  "
      ]
     },
     "metadata": {},
     "output_type": "display_data"
    },
    {
     "data": {
      "text/plain": [
       "'______________выборка__________________'"
      ]
     },
     "metadata": {},
     "output_type": "display_data"
    },
    {
     "data": {
      "text/html": [
       "<div>\n",
       "<style scoped>\n",
       "    .dataframe tbody tr th:only-of-type {\n",
       "        vertical-align: middle;\n",
       "    }\n",
       "\n",
       "    .dataframe tbody tr th {\n",
       "        vertical-align: top;\n",
       "    }\n",
       "\n",
       "    .dataframe thead th {\n",
       "        text-align: right;\n",
       "    }\n",
       "</style>\n",
       "<table border=\"1\" class=\"dataframe\">\n",
       "  <thead>\n",
       "    <tr style=\"text-align: right;\">\n",
       "      <th></th>\n",
       "      <th>code</th>\n",
       "      <th>passport</th>\n",
       "      <th>button</th>\n",
       "      <th>tv state</th>\n",
       "      <th>unit</th>\n",
       "      <th>day</th>\n",
       "      <th>cs_start</th>\n",
       "      <th>cs_finish</th>\n",
       "      <th>see</th>\n",
       "      <th>display</th>\n",
       "      <th>Кол-во человек в семье 4+</th>\n",
       "    </tr>\n",
       "  </thead>\n",
       "  <tbody>\n",
       "    <tr>\n",
       "      <th>202</th>\n",
       "      <td>258546</td>\n",
       "      <td>1212330</td>\n",
       "      <td>А</td>\n",
       "      <td>включён</td>\n",
       "      <td>0</td>\n",
       "      <td>14.02.22</td>\n",
       "      <td>18:44:21</td>\n",
       "      <td>18:46:04</td>\n",
       "      <td>нет регистрации</td>\n",
       "      <td>нет в комнате</td>\n",
       "      <td>4</td>\n",
       "    </tr>\n",
       "    <tr>\n",
       "      <th>79</th>\n",
       "      <td>258508</td>\n",
       "      <td>1204932</td>\n",
       "      <td>А</td>\n",
       "      <td>выключен</td>\n",
       "      <td>0</td>\n",
       "      <td>14.02.22</td>\n",
       "      <td>16:35:44</td>\n",
       "      <td>16:38:09</td>\n",
       "      <td>нет регистрации</td>\n",
       "      <td>нет в комнате</td>\n",
       "      <td>7</td>\n",
       "    </tr>\n",
       "    <tr>\n",
       "      <th>153</th>\n",
       "      <td>258533</td>\n",
       "      <td>1210794</td>\n",
       "      <td>Б</td>\n",
       "      <td>выключен</td>\n",
       "      <td>0</td>\n",
       "      <td>15.02.22</td>\n",
       "      <td>11:38:46</td>\n",
       "      <td>11:41:38</td>\n",
       "      <td>нет регистрации</td>\n",
       "      <td>нет в комнате</td>\n",
       "      <td>4</td>\n",
       "    </tr>\n",
       "    <tr>\n",
       "      <th>126</th>\n",
       "      <td>258523</td>\n",
       "      <td>1209268</td>\n",
       "      <td>А</td>\n",
       "      <td>выключен</td>\n",
       "      <td>0</td>\n",
       "      <td>14.02.22</td>\n",
       "      <td>20:29:40</td>\n",
       "      <td>20:32:01</td>\n",
       "      <td>нет регистрации</td>\n",
       "      <td>нет в комнате</td>\n",
       "      <td>4</td>\n",
       "    </tr>\n",
       "    <tr>\n",
       "      <th>76</th>\n",
       "      <td>258507</td>\n",
       "      <td>1204875</td>\n",
       "      <td>А</td>\n",
       "      <td>выключен</td>\n",
       "      <td>0</td>\n",
       "      <td>14.02.22</td>\n",
       "      <td>20:11:05</td>\n",
       "      <td>20:14:32</td>\n",
       "      <td>нет регистрации</td>\n",
       "      <td>нет в комнате</td>\n",
       "      <td>3</td>\n",
       "    </tr>\n",
       "  </tbody>\n",
       "</table>\n",
       "</div>"
      ],
      "text/plain": [
       "       code  passport button  tv state  unit       day  cs_start cs_finish  \\\n",
       "202  258546   1212330      А   включён     0  14.02.22  18:44:21  18:46:04   \n",
       "79   258508   1204932      А  выключен     0  14.02.22  16:35:44  16:38:09   \n",
       "153  258533   1210794      Б  выключен     0  15.02.22  11:38:46  11:41:38   \n",
       "126  258523   1209268      А  выключен     0  14.02.22  20:29:40  20:32:01   \n",
       "76   258507   1204875      А  выключен     0  14.02.22  20:11:05  20:14:32   \n",
       "\n",
       "                 see        display  Кол-во человек в семье 4+  \n",
       "202  нет регистрации  нет в комнате                          4  \n",
       "79   нет регистрации  нет в комнате                          7  \n",
       "153  нет регистрации  нет в комнате                          4  \n",
       "126  нет регистрации  нет в комнате                          4  \n",
       "76   нет регистрации  нет в комнате                          3  "
      ]
     },
     "metadata": {},
     "output_type": "display_data"
    },
    {
     "data": {
      "text/plain": [
       "'___________конец таблицы_______________'"
      ]
     },
     "metadata": {},
     "output_type": "display_data"
    },
    {
     "data": {
      "text/html": [
       "<div>\n",
       "<style scoped>\n",
       "    .dataframe tbody tr th:only-of-type {\n",
       "        vertical-align: middle;\n",
       "    }\n",
       "\n",
       "    .dataframe tbody tr th {\n",
       "        vertical-align: top;\n",
       "    }\n",
       "\n",
       "    .dataframe thead th {\n",
       "        text-align: right;\n",
       "    }\n",
       "</style>\n",
       "<table border=\"1\" class=\"dataframe\">\n",
       "  <thead>\n",
       "    <tr style=\"text-align: right;\">\n",
       "      <th></th>\n",
       "      <th>code</th>\n",
       "      <th>passport</th>\n",
       "      <th>button</th>\n",
       "      <th>tv state</th>\n",
       "      <th>unit</th>\n",
       "      <th>day</th>\n",
       "      <th>cs_start</th>\n",
       "      <th>cs_finish</th>\n",
       "      <th>see</th>\n",
       "      <th>display</th>\n",
       "      <th>Кол-во человек в семье 4+</th>\n",
       "    </tr>\n",
       "  </thead>\n",
       "  <tbody>\n",
       "    <tr>\n",
       "      <th>202</th>\n",
       "      <td>258546</td>\n",
       "      <td>1212330</td>\n",
       "      <td>А</td>\n",
       "      <td>включён</td>\n",
       "      <td>0</td>\n",
       "      <td>14.02.22</td>\n",
       "      <td>18:44:21</td>\n",
       "      <td>18:46:04</td>\n",
       "      <td>нет регистрации</td>\n",
       "      <td>нет в комнате</td>\n",
       "      <td>4</td>\n",
       "    </tr>\n",
       "    <tr>\n",
       "      <th>203</th>\n",
       "      <td>258546</td>\n",
       "      <td>1212330</td>\n",
       "      <td>Б</td>\n",
       "      <td>включён</td>\n",
       "      <td>0</td>\n",
       "      <td>14.02.22</td>\n",
       "      <td>18:44:21</td>\n",
       "      <td>18:46:04</td>\n",
       "      <td>нет регистрации</td>\n",
       "      <td>нет в комнате</td>\n",
       "      <td>4</td>\n",
       "    </tr>\n",
       "    <tr>\n",
       "      <th>204</th>\n",
       "      <td>258546</td>\n",
       "      <td>1212330</td>\n",
       "      <td>Д</td>\n",
       "      <td>включён</td>\n",
       "      <td>0</td>\n",
       "      <td>14.02.22</td>\n",
       "      <td>18:44:21</td>\n",
       "      <td>18:46:04</td>\n",
       "      <td>есть регистрация</td>\n",
       "      <td>в комнате</td>\n",
       "      <td>4</td>\n",
       "    </tr>\n",
       "    <tr>\n",
       "      <th>205</th>\n",
       "      <td>258548</td>\n",
       "      <td>1212873</td>\n",
       "      <td>А</td>\n",
       "      <td>включён</td>\n",
       "      <td>0</td>\n",
       "      <td>14.02.22</td>\n",
       "      <td>19:24:42</td>\n",
       "      <td>19:26:55</td>\n",
       "      <td>есть регистрация</td>\n",
       "      <td>в комнате</td>\n",
       "      <td>1</td>\n",
       "    </tr>\n",
       "    <tr>\n",
       "      <th>206</th>\n",
       "      <td>258552</td>\n",
       "      <td>1212916</td>\n",
       "      <td>А</td>\n",
       "      <td>включён</td>\n",
       "      <td>0</td>\n",
       "      <td>14.02.22</td>\n",
       "      <td>19:39:23</td>\n",
       "      <td>19:41:36</td>\n",
       "      <td>есть регистрация</td>\n",
       "      <td>в комнате</td>\n",
       "      <td>1</td>\n",
       "    </tr>\n",
       "  </tbody>\n",
       "</table>\n",
       "</div>"
      ],
      "text/plain": [
       "       code  passport button tv state  unit       day  cs_start cs_finish  \\\n",
       "202  258546   1212330      А  включён     0  14.02.22  18:44:21  18:46:04   \n",
       "203  258546   1212330      Б  включён     0  14.02.22  18:44:21  18:46:04   \n",
       "204  258546   1212330      Д  включён     0  14.02.22  18:44:21  18:46:04   \n",
       "205  258548   1212873      А  включён     0  14.02.22  19:24:42  19:26:55   \n",
       "206  258552   1212916      А  включён     0  14.02.22  19:39:23  19:41:36   \n",
       "\n",
       "                  see        display  Кол-во человек в семье 4+  \n",
       "202   нет регистрации  нет в комнате                          4  \n",
       "203   нет регистрации  нет в комнате                          4  \n",
       "204  есть регистрация      в комнате                          4  \n",
       "205  есть регистрация      в комнате                          1  \n",
       "206  есть регистрация      в комнате                          1  "
      ]
     },
     "metadata": {},
     "output_type": "display_data"
    },
    {
     "data": {
      "text/plain": [
       "'_____________пропуски__________________'"
      ]
     },
     "metadata": {},
     "output_type": "display_data"
    },
    {
     "data": {
      "text/html": [
       "<div>\n",
       "<style scoped>\n",
       "    .dataframe tbody tr th:only-of-type {\n",
       "        vertical-align: middle;\n",
       "    }\n",
       "\n",
       "    .dataframe tbody tr th {\n",
       "        vertical-align: top;\n",
       "    }\n",
       "\n",
       "    .dataframe thead th {\n",
       "        text-align: right;\n",
       "    }\n",
       "</style>\n",
       "<table border=\"1\" class=\"dataframe\">\n",
       "  <thead>\n",
       "    <tr style=\"text-align: right;\">\n",
       "      <th></th>\n",
       "      <th>index</th>\n",
       "      <th>0</th>\n",
       "    </tr>\n",
       "  </thead>\n",
       "  <tbody>\n",
       "    <tr>\n",
       "      <th>0</th>\n",
       "      <td>code</td>\n",
       "      <td>0</td>\n",
       "    </tr>\n",
       "    <tr>\n",
       "      <th>1</th>\n",
       "      <td>passport</td>\n",
       "      <td>0</td>\n",
       "    </tr>\n",
       "    <tr>\n",
       "      <th>2</th>\n",
       "      <td>button</td>\n",
       "      <td>0</td>\n",
       "    </tr>\n",
       "    <tr>\n",
       "      <th>3</th>\n",
       "      <td>tv state</td>\n",
       "      <td>0</td>\n",
       "    </tr>\n",
       "    <tr>\n",
       "      <th>4</th>\n",
       "      <td>unit</td>\n",
       "      <td>0</td>\n",
       "    </tr>\n",
       "    <tr>\n",
       "      <th>5</th>\n",
       "      <td>day</td>\n",
       "      <td>0</td>\n",
       "    </tr>\n",
       "    <tr>\n",
       "      <th>6</th>\n",
       "      <td>cs_start</td>\n",
       "      <td>0</td>\n",
       "    </tr>\n",
       "    <tr>\n",
       "      <th>7</th>\n",
       "      <td>cs_finish</td>\n",
       "      <td>0</td>\n",
       "    </tr>\n",
       "    <tr>\n",
       "      <th>8</th>\n",
       "      <td>see</td>\n",
       "      <td>0</td>\n",
       "    </tr>\n",
       "    <tr>\n",
       "      <th>9</th>\n",
       "      <td>display</td>\n",
       "      <td>0</td>\n",
       "    </tr>\n",
       "    <tr>\n",
       "      <th>10</th>\n",
       "      <td>Кол-во человек в семье 4+</td>\n",
       "      <td>0</td>\n",
       "    </tr>\n",
       "  </tbody>\n",
       "</table>\n",
       "</div>"
      ],
      "text/plain": [
       "                        index  0\n",
       "0                        code  0\n",
       "1                    passport  0\n",
       "2                      button  0\n",
       "3                    tv state  0\n",
       "4                        unit  0\n",
       "5                         day  0\n",
       "6                    cs_start  0\n",
       "7                   cs_finish  0\n",
       "8                         see  0\n",
       "9                     display  0\n",
       "10  Кол-во человек в семье 4+  0"
      ]
     },
     "metadata": {},
     "output_type": "display_data"
    },
    {
     "data": {
      "text/plain": [
       "'_____________дубликаты_________________'"
      ]
     },
     "metadata": {},
     "output_type": "display_data"
    },
    {
     "data": {
      "text/plain": [
       "0"
      ]
     },
     "metadata": {},
     "output_type": "display_data"
    },
    {
     "data": {
      "text/plain": [
       "'доля пропущенных значений по каждому из столбцов'"
      ]
     },
     "metadata": {},
     "output_type": "display_data"
    },
    {
     "data": {
      "text/html": [
       "<div>\n",
       "<style scoped>\n",
       "    .dataframe tbody tr th:only-of-type {\n",
       "        vertical-align: middle;\n",
       "    }\n",
       "\n",
       "    .dataframe tbody tr th {\n",
       "        vertical-align: top;\n",
       "    }\n",
       "\n",
       "    .dataframe thead th {\n",
       "        text-align: right;\n",
       "    }\n",
       "</style>\n",
       "<table border=\"1\" class=\"dataframe\">\n",
       "  <thead>\n",
       "    <tr style=\"text-align: right;\">\n",
       "      <th></th>\n",
       "      <th>index</th>\n",
       "      <th>0</th>\n",
       "    </tr>\n",
       "  </thead>\n",
       "  <tbody>\n",
       "    <tr>\n",
       "      <th>0</th>\n",
       "      <td>code</td>\n",
       "      <td>0.0</td>\n",
       "    </tr>\n",
       "    <tr>\n",
       "      <th>1</th>\n",
       "      <td>passport</td>\n",
       "      <td>0.0</td>\n",
       "    </tr>\n",
       "    <tr>\n",
       "      <th>2</th>\n",
       "      <td>button</td>\n",
       "      <td>0.0</td>\n",
       "    </tr>\n",
       "    <tr>\n",
       "      <th>3</th>\n",
       "      <td>tv state</td>\n",
       "      <td>0.0</td>\n",
       "    </tr>\n",
       "    <tr>\n",
       "      <th>4</th>\n",
       "      <td>unit</td>\n",
       "      <td>0.0</td>\n",
       "    </tr>\n",
       "    <tr>\n",
       "      <th>5</th>\n",
       "      <td>day</td>\n",
       "      <td>0.0</td>\n",
       "    </tr>\n",
       "    <tr>\n",
       "      <th>6</th>\n",
       "      <td>cs_start</td>\n",
       "      <td>0.0</td>\n",
       "    </tr>\n",
       "    <tr>\n",
       "      <th>7</th>\n",
       "      <td>cs_finish</td>\n",
       "      <td>0.0</td>\n",
       "    </tr>\n",
       "    <tr>\n",
       "      <th>8</th>\n",
       "      <td>see</td>\n",
       "      <td>0.0</td>\n",
       "    </tr>\n",
       "    <tr>\n",
       "      <th>9</th>\n",
       "      <td>display</td>\n",
       "      <td>0.0</td>\n",
       "    </tr>\n",
       "    <tr>\n",
       "      <th>10</th>\n",
       "      <td>Кол-во человек в семье 4+</td>\n",
       "      <td>0.0</td>\n",
       "    </tr>\n",
       "  </tbody>\n",
       "</table>\n",
       "</div>"
      ],
      "text/plain": [
       "                        index    0\n",
       "0                        code  0.0\n",
       "1                    passport  0.0\n",
       "2                      button  0.0\n",
       "3                    tv state  0.0\n",
       "4                        unit  0.0\n",
       "5                         day  0.0\n",
       "6                    cs_start  0.0\n",
       "7                   cs_finish  0.0\n",
       "8                         see  0.0\n",
       "9                     display  0.0\n",
       "10  Кол-во человек в семье 4+  0.0"
      ]
     },
     "metadata": {},
     "output_type": "display_data"
    },
    {
     "data": {
      "text/plain": [
       "'_______число уникальных значений_______'"
      ]
     },
     "metadata": {},
     "output_type": "display_data"
    },
    {
     "data": {
      "text/plain": [
       "code                         45\n",
       "passport                     45\n",
       "button                        7\n",
       "tv state                      2\n",
       "unit                          3\n",
       "day                           8\n",
       "cs_start                     45\n",
       "cs_finish                    45\n",
       "see                           2\n",
       "display                       2\n",
       "Кол-во человек в семье 4+     6\n",
       "dtype: int64"
      ]
     },
     "metadata": {},
     "output_type": "display_data"
    },
    {
     "data": {
      "text/plain": [
       "'_________________КОНЕЦ________________'"
      ]
     },
     "metadata": {},
     "output_type": "display_data"
    }
   ],
   "source": [
    "# отображение основной информации\n",
    "list_df = (onoff, sur)\n",
    "for list_df in list_df:\n",
    "    display('_____________информация________________')\n",
    "    display(list_df.info())\n",
    "    display('______________статистика_______________')\n",
    "    display(list_df.describe().T)\n",
    "    display('______________выборка__________________')\n",
    "    display(list_df.sample(5))\n",
    "    display('___________конец таблицы_______________')\n",
    "    display(list_df.tail())\n",
    "    display('_____________пропуски__________________')\n",
    "    display(list_df.isna().sum().reset_index())\n",
    "    display('_____________дубликаты_________________')\n",
    "    display(list_df.duplicated().sum())\n",
    "    display('доля пропущенных значений по каждому из столбцов')\n",
    "    display(list_df.isnull().mean().reset_index())\n",
    "    display('_______число уникальных значений_______')\n",
    "    display(list_df.nunique())\n",
    "    display('_________________КОНЕЦ________________')"
   ]
  },
  {
   "cell_type": "markdown",
   "metadata": {},
   "source": [
    "Пропусков и дубликатов не обнаружено. Необходимо скорректировать названия столбцов и типы данных."
   ]
  },
  {
   "cell_type": "code",
   "execution_count": 6,
   "metadata": {},
   "outputs": [
    {
     "data": {
      "text/plain": [
       "Index(['passportnumber', 'unitnumber', 'devicestate', 'begin', 'end'], dtype='object')"
      ]
     },
     "metadata": {},
     "output_type": "display_data"
    },
    {
     "data": {
      "text/plain": [
       "Index(['code', 'passport', 'button', 'tv_state', 'unit', 'day', 'cs_start',\n",
       "       'cs_finish', 'see', 'display', 'кол-во_человек_в_семье_4+'],\n",
       "      dtype='object')"
      ]
     },
     "metadata": {},
     "output_type": "display_data"
    }
   ],
   "source": [
    "# переименование названий столбцов в таблице\n",
    "list_df = (onoff, sur)\n",
    "for list_df in list_df:\n",
    "    list_df.columns = list_df.columns.str.strip()\n",
    "    list_df.columns = list_df.columns.str.lower()\n",
    "    list_df.columns = list_df.columns.str.replace(' ','_')\n",
    "    display(list_df.columns)"
   ]
  },
  {
   "cell_type": "code",
   "execution_count": 7,
   "metadata": {},
   "outputs": [],
   "source": [
    "# исправим типы данных\n",
    "onoff.begin = \\\n",
    "    pd.to_datetime(onoff.begin)\n",
    "onoff.end = \\\n",
    "    pd.to_datetime(onoff.end)"
   ]
  },
  {
   "cell_type": "code",
   "execution_count": 8,
   "metadata": {},
   "outputs": [],
   "source": [
    "# создадим новые признаки, с датой + временем\n",
    "sur['cs_day_begin'] = sur.day.astype(str) + ' ' + sur.cs_start.astype(str)\n",
    "sur['cs_day_begin'] = pd.to_datetime(sur.cs_day_begin.astype(str))\n",
    "\n",
    "sur['cs_day_end'] = sur.day.astype(str) + ' ' + sur.cs_finish.astype(str)\n",
    "sur['cs_day_end'] = pd.to_datetime(sur.cs_day_end.astype(str))\n"
   ]
  },
  {
   "cell_type": "code",
   "execution_count": 9,
   "metadata": {},
   "outputs": [],
   "source": [
    "# исправим типы данных\n",
    "sur.cs_start = pd.to_datetime(sur.cs_start.astype(str))\n",
    "sur.cs_finish = pd.to_datetime(sur.cs_finish.astype(str))"
   ]
  },
  {
   "cell_type": "code",
   "execution_count": 10,
   "metadata": {},
   "outputs": [
    {
     "name": "stdout",
     "output_type": "stream",
     "text": [
      "Данные по опросу пользователей телевизоров собраны в период с 2024-04-06 03:05:31 по  2024-04-06 21:00:16\n"
     ]
    }
   ],
   "source": [
    "print('Данные по опросу пользователей телевизоров собраны в период с',\n",
    "    sur.cs_start.min(), 'по ', sur.cs_finish.max())"
   ]
  },
  {
   "cell_type": "code",
   "execution_count": 11,
   "metadata": {},
   "outputs": [
    {
     "name": "stdout",
     "output_type": "stream",
     "text": [
      "<class 'pandas.core.frame.DataFrame'>\n",
      "RangeIndex: 642134 entries, 0 to 642133\n",
      "Data columns (total 5 columns):\n",
      " #   Column          Non-Null Count   Dtype         \n",
      "---  ------          --------------   -----         \n",
      " 0   passportnumber  642134 non-null  int64         \n",
      " 1   unitnumber      642134 non-null  int64         \n",
      " 2   devicestate     642134 non-null  object        \n",
      " 3   begin           642134 non-null  datetime64[ns]\n",
      " 4   end             642134 non-null  datetime64[ns]\n",
      "dtypes: datetime64[ns](2), int64(2), object(1)\n",
      "memory usage: 24.5+ MB\n"
     ]
    }
   ],
   "source": [
    "onoff.info()"
   ]
  },
  {
   "cell_type": "code",
   "execution_count": 12,
   "metadata": {},
   "outputs": [
    {
     "name": "stdout",
     "output_type": "stream",
     "text": [
      "<class 'pandas.core.frame.DataFrame'>\n",
      "RangeIndex: 207 entries, 0 to 206\n",
      "Data columns (total 13 columns):\n",
      " #   Column                     Non-Null Count  Dtype         \n",
      "---  ------                     --------------  -----         \n",
      " 0   code                       207 non-null    int64         \n",
      " 1   passport                   207 non-null    int64         \n",
      " 2   button                     207 non-null    object        \n",
      " 3   tv_state                   207 non-null    object        \n",
      " 4   unit                       207 non-null    int64         \n",
      " 5   day                        207 non-null    object        \n",
      " 6   cs_start                   207 non-null    datetime64[ns]\n",
      " 7   cs_finish                  207 non-null    datetime64[ns]\n",
      " 8   see                        207 non-null    object        \n",
      " 9   display                    207 non-null    object        \n",
      " 10  кол-во_человек_в_семье_4+  207 non-null    int64         \n",
      " 11  cs_day_begin               207 non-null    datetime64[ns]\n",
      " 12  cs_day_end                 207 non-null    datetime64[ns]\n",
      "dtypes: datetime64[ns](4), int64(4), object(5)\n",
      "memory usage: 21.2+ KB\n"
     ]
    }
   ],
   "source": [
    "sur.info()"
   ]
  },
  {
   "cell_type": "markdown",
   "metadata": {},
   "source": [
    "Предобработка была успешно завершена.\n",
    "\n",
    "## <a id='toc1_3_'></a>[Анализ](#toc0_)\n",
    "\n",
    "Для удобства соединим данные о статусах в единый датасет."
   ]
  },
  {
   "cell_type": "code",
   "execution_count": 13,
   "metadata": {},
   "outputs": [],
   "source": [
    "def find_device_state(row):\n",
    "    df_tmp = onoff[(onoff.passportnumber == row.passport) & \\\n",
    "                        (onoff.unitnumber == row.unit)]\n",
    "    for n in range(df_tmp.shape[0]):\n",
    "        if( (row.cs_day_begin >= df_tmp.iloc[n].begin) &\n",
    "            (row.cs_day_begin <= df_tmp.iloc[n].end) ):\n",
    "            return onoff.iloc[n].devicestate\n",
    "    return 'Not defined'"
   ]
  },
  {
   "cell_type": "code",
   "execution_count": 14,
   "metadata": {},
   "outputs": [
    {
     "data": {
      "text/html": [
       "<div>\n",
       "<style scoped>\n",
       "    .dataframe tbody tr th:only-of-type {\n",
       "        vertical-align: middle;\n",
       "    }\n",
       "\n",
       "    .dataframe tbody tr th {\n",
       "        vertical-align: top;\n",
       "    }\n",
       "\n",
       "    .dataframe thead th {\n",
       "        text-align: right;\n",
       "    }\n",
       "</style>\n",
       "<table border=\"1\" class=\"dataframe\">\n",
       "  <thead>\n",
       "    <tr style=\"text-align: right;\">\n",
       "      <th></th>\n",
       "      <th>code</th>\n",
       "      <th>passport</th>\n",
       "      <th>button</th>\n",
       "      <th>tv_state</th>\n",
       "      <th>unit</th>\n",
       "      <th>day</th>\n",
       "      <th>cs_start</th>\n",
       "      <th>cs_finish</th>\n",
       "      <th>see</th>\n",
       "      <th>display</th>\n",
       "      <th>кол-во_человек_в_семье_4+</th>\n",
       "      <th>cs_day_begin</th>\n",
       "      <th>cs_day_end</th>\n",
       "      <th>devicestate</th>\n",
       "    </tr>\n",
       "  </thead>\n",
       "  <tbody>\n",
       "    <tr>\n",
       "      <th>173</th>\n",
       "      <td>258536</td>\n",
       "      <td>1210965</td>\n",
       "      <td>Г</td>\n",
       "      <td>выключен</td>\n",
       "      <td>2</td>\n",
       "      <td>15.02.22</td>\n",
       "      <td>2024-04-06 11:44:28</td>\n",
       "      <td>2024-04-06 11:48:10</td>\n",
       "      <td>нет регистрации</td>\n",
       "      <td>нет в комнате</td>\n",
       "      <td>6</td>\n",
       "      <td>2022-02-15 11:44:28</td>\n",
       "      <td>2022-02-15 11:48:10</td>\n",
       "      <td>ON</td>\n",
       "    </tr>\n",
       "    <tr>\n",
       "      <th>151</th>\n",
       "      <td>258533</td>\n",
       "      <td>1210794</td>\n",
       "      <td>А</td>\n",
       "      <td>включён</td>\n",
       "      <td>1</td>\n",
       "      <td>15.02.22</td>\n",
       "      <td>2024-04-06 11:38:46</td>\n",
       "      <td>2024-04-06 11:41:38</td>\n",
       "      <td>есть регистрация</td>\n",
       "      <td>в комнате</td>\n",
       "      <td>4</td>\n",
       "      <td>2022-02-15 11:38:46</td>\n",
       "      <td>2022-02-15 11:41:38</td>\n",
       "      <td>ON</td>\n",
       "    </tr>\n",
       "    <tr>\n",
       "      <th>118</th>\n",
       "      <td>258521</td>\n",
       "      <td>1208646</td>\n",
       "      <td>А</td>\n",
       "      <td>выключен</td>\n",
       "      <td>0</td>\n",
       "      <td>14.02.22</td>\n",
       "      <td>2024-04-06 19:43:33</td>\n",
       "      <td>2024-04-06 19:45:31</td>\n",
       "      <td>нет регистрации</td>\n",
       "      <td>нет в комнате</td>\n",
       "      <td>2</td>\n",
       "      <td>2022-02-14 19:43:33</td>\n",
       "      <td>2022-02-14 19:45:31</td>\n",
       "      <td>ON</td>\n",
       "    </tr>\n",
       "  </tbody>\n",
       "</table>\n",
       "</div>"
      ],
      "text/plain": [
       "       code  passport button  tv_state  unit       day            cs_start  \\\n",
       "173  258536   1210965      Г  выключен     2  15.02.22 2024-04-06 11:44:28   \n",
       "151  258533   1210794      А   включён     1  15.02.22 2024-04-06 11:38:46   \n",
       "118  258521   1208646      А  выключен     0  14.02.22 2024-04-06 19:43:33   \n",
       "\n",
       "              cs_finish               see        display  \\\n",
       "173 2024-04-06 11:48:10   нет регистрации  нет в комнате   \n",
       "151 2024-04-06 11:41:38  есть регистрация      в комнате   \n",
       "118 2024-04-06 19:45:31   нет регистрации  нет в комнате   \n",
       "\n",
       "     кол-во_человек_в_семье_4+        cs_day_begin          cs_day_end  \\\n",
       "173                          6 2022-02-15 11:44:28 2022-02-15 11:48:10   \n",
       "151                          4 2022-02-15 11:38:46 2022-02-15 11:41:38   \n",
       "118                          2 2022-02-14 19:43:33 2022-02-14 19:45:31   \n",
       "\n",
       "    devicestate  \n",
       "173          ON  \n",
       "151          ON  \n",
       "118          ON  "
      ]
     },
     "execution_count": 14,
     "metadata": {},
     "output_type": "execute_result"
    }
   ],
   "source": [
    "sur['devicestate'] = sur.apply(find_device_state, axis=1)\n",
    "sur.sample(3, random_state=3)"
   ]
  },
  {
   "cell_type": "markdown",
   "metadata": {},
   "source": [
    "Фактические статусы успешно добавлены в датасет к статусом со слов респондентов."
   ]
  },
  {
   "cell_type": "code",
   "execution_count": 15,
   "metadata": {},
   "outputs": [
    {
     "data": {
      "text/plain": [
       "tv_state\n",
       "выключен    153\n",
       "включён      54\n",
       "Name: count, dtype: int64"
      ]
     },
     "metadata": {},
     "output_type": "display_data"
    },
    {
     "data": {
      "text/plain": [
       "devicestate\n",
       "Not defined    82\n",
       "ON             65\n",
       "OFF            60\n",
       "Name: count, dtype: int64"
      ]
     },
     "execution_count": 15,
     "metadata": {},
     "output_type": "execute_result"
    }
   ],
   "source": [
    "display(sur.tv_state.value_counts())\n",
    "sur.devicestate.value_counts()"
   ]
  },
  {
   "cell_type": "markdown",
   "metadata": {},
   "source": [
    "Чаще всего респонденты утверждали, что телевизор выключен, а в фактическом состоянии, не считая неопределённого статуса, телевизор чаще всего был включён. Проверим расхождения."
   ]
  },
  {
   "cell_type": "code",
   "execution_count": 16,
   "metadata": {},
   "outputs": [
    {
     "data": {
      "text/html": [
       "<div>\n",
       "<style scoped>\n",
       "    .dataframe tbody tr th:only-of-type {\n",
       "        vertical-align: middle;\n",
       "    }\n",
       "\n",
       "    .dataframe tbody tr th {\n",
       "        vertical-align: top;\n",
       "    }\n",
       "\n",
       "    .dataframe thead th {\n",
       "        text-align: right;\n",
       "    }\n",
       "</style>\n",
       "<table border=\"1\" class=\"dataframe\">\n",
       "  <thead>\n",
       "    <tr style=\"text-align: right;\">\n",
       "      <th></th>\n",
       "      <th>code</th>\n",
       "      <th>passport</th>\n",
       "      <th>button</th>\n",
       "      <th>tv_state</th>\n",
       "      <th>unit</th>\n",
       "      <th>day</th>\n",
       "      <th>cs_start</th>\n",
       "      <th>cs_finish</th>\n",
       "      <th>see</th>\n",
       "      <th>display</th>\n",
       "      <th>кол-во_человек_в_семье_4+</th>\n",
       "      <th>cs_day_begin</th>\n",
       "      <th>cs_day_end</th>\n",
       "      <th>devicestate</th>\n",
       "    </tr>\n",
       "  </thead>\n",
       "  <tbody>\n",
       "    <tr>\n",
       "      <th>3</th>\n",
       "      <td>258106</td>\n",
       "      <td>1205697</td>\n",
       "      <td>В</td>\n",
       "      <td>включён</td>\n",
       "      <td>0</td>\n",
       "      <td>07.02.22</td>\n",
       "      <td>2024-04-06 16:50:18</td>\n",
       "      <td>2024-04-06 16:53:17</td>\n",
       "      <td>нет регистрации</td>\n",
       "      <td>в комнате</td>\n",
       "      <td>3</td>\n",
       "      <td>2022-07-02 16:50:18</td>\n",
       "      <td>2022-07-02 16:53:17</td>\n",
       "      <td>Not defined</td>\n",
       "    </tr>\n",
       "    <tr>\n",
       "      <th>44</th>\n",
       "      <td>258124</td>\n",
       "      <td>1210425</td>\n",
       "      <td>Б</td>\n",
       "      <td>включён</td>\n",
       "      <td>0</td>\n",
       "      <td>07.02.22</td>\n",
       "      <td>2024-04-06 17:57:43</td>\n",
       "      <td>2024-04-06 18:07:25</td>\n",
       "      <td>нет регистрации</td>\n",
       "      <td>в комнате</td>\n",
       "      <td>2</td>\n",
       "      <td>2022-07-02 17:57:43</td>\n",
       "      <td>2022-07-02 18:07:25</td>\n",
       "      <td>Not defined</td>\n",
       "    </tr>\n",
       "    <tr>\n",
       "      <th>41</th>\n",
       "      <td>258124</td>\n",
       "      <td>1210425</td>\n",
       "      <td>А</td>\n",
       "      <td>включён</td>\n",
       "      <td>0</td>\n",
       "      <td>07.02.22</td>\n",
       "      <td>2024-04-06 17:57:43</td>\n",
       "      <td>2024-04-06 18:07:25</td>\n",
       "      <td>есть регистрация</td>\n",
       "      <td>в комнате</td>\n",
       "      <td>2</td>\n",
       "      <td>2022-07-02 17:57:43</td>\n",
       "      <td>2022-07-02 18:07:25</td>\n",
       "      <td>Not defined</td>\n",
       "    </tr>\n",
       "    <tr>\n",
       "      <th>39</th>\n",
       "      <td>258122</td>\n",
       "      <td>1209804</td>\n",
       "      <td>А</td>\n",
       "      <td>включён</td>\n",
       "      <td>0</td>\n",
       "      <td>07.02.22</td>\n",
       "      <td>2024-04-06 17:40:40</td>\n",
       "      <td>2024-04-06 17:42:43</td>\n",
       "      <td>есть регистрация</td>\n",
       "      <td>в комнате</td>\n",
       "      <td>1</td>\n",
       "      <td>2022-07-02 17:40:40</td>\n",
       "      <td>2022-07-02 17:42:43</td>\n",
       "      <td>Not defined</td>\n",
       "    </tr>\n",
       "    <tr>\n",
       "      <th>28</th>\n",
       "      <td>258119</td>\n",
       "      <td>1209625</td>\n",
       "      <td>Б</td>\n",
       "      <td>выключен</td>\n",
       "      <td>1</td>\n",
       "      <td>09.02.22</td>\n",
       "      <td>2024-04-06 18:01:34</td>\n",
       "      <td>2024-04-06 18:02:31</td>\n",
       "      <td>нет регистрации</td>\n",
       "      <td>нет в комнате</td>\n",
       "      <td>2</td>\n",
       "      <td>2022-09-02 18:01:34</td>\n",
       "      <td>2022-09-02 18:02:31</td>\n",
       "      <td>Not defined</td>\n",
       "    </tr>\n",
       "    <tr>\n",
       "      <th>48</th>\n",
       "      <td>258128</td>\n",
       "      <td>1210930</td>\n",
       "      <td>А</td>\n",
       "      <td>выключен</td>\n",
       "      <td>0</td>\n",
       "      <td>07.02.22</td>\n",
       "      <td>2024-04-06 18:52:47</td>\n",
       "      <td>2024-04-06 18:54:12</td>\n",
       "      <td>нет регистрации</td>\n",
       "      <td>нет в комнате</td>\n",
       "      <td>4</td>\n",
       "      <td>2022-07-02 18:52:47</td>\n",
       "      <td>2022-07-02 18:54:12</td>\n",
       "      <td>Not defined</td>\n",
       "    </tr>\n",
       "    <tr>\n",
       "      <th>55</th>\n",
       "      <td>258130</td>\n",
       "      <td>1211011</td>\n",
       "      <td>А</td>\n",
       "      <td>включён</td>\n",
       "      <td>0</td>\n",
       "      <td>07.02.22</td>\n",
       "      <td>2024-04-06 19:01:00</td>\n",
       "      <td>2024-04-06 19:03:10</td>\n",
       "      <td>есть регистрация</td>\n",
       "      <td>в комнате</td>\n",
       "      <td>2</td>\n",
       "      <td>2022-07-02 19:01:00</td>\n",
       "      <td>2022-07-02 19:03:10</td>\n",
       "      <td>Not defined</td>\n",
       "    </tr>\n",
       "    <tr>\n",
       "      <th>23</th>\n",
       "      <td>258116</td>\n",
       "      <td>1209281</td>\n",
       "      <td>Д</td>\n",
       "      <td>выключен</td>\n",
       "      <td>0</td>\n",
       "      <td>07.02.22</td>\n",
       "      <td>2024-04-06 19:46:13</td>\n",
       "      <td>2024-04-06 19:47:07</td>\n",
       "      <td>нет регистрации</td>\n",
       "      <td>нет в комнате</td>\n",
       "      <td>4</td>\n",
       "      <td>2022-07-02 19:46:13</td>\n",
       "      <td>2022-07-02 19:47:07</td>\n",
       "      <td>Not defined</td>\n",
       "    </tr>\n",
       "    <tr>\n",
       "      <th>34</th>\n",
       "      <td>258121</td>\n",
       "      <td>1209774</td>\n",
       "      <td>Б</td>\n",
       "      <td>выключен</td>\n",
       "      <td>0</td>\n",
       "      <td>07.02.22</td>\n",
       "      <td>2024-04-06 17:33:19</td>\n",
       "      <td>2024-04-06 17:36:38</td>\n",
       "      <td>нет регистрации</td>\n",
       "      <td>нет в комнате</td>\n",
       "      <td>3</td>\n",
       "      <td>2022-07-02 17:33:19</td>\n",
       "      <td>2022-07-02 17:36:38</td>\n",
       "      <td>Not defined</td>\n",
       "    </tr>\n",
       "    <tr>\n",
       "      <th>50</th>\n",
       "      <td>258128</td>\n",
       "      <td>1210930</td>\n",
       "      <td>Б</td>\n",
       "      <td>выключен</td>\n",
       "      <td>0</td>\n",
       "      <td>07.02.22</td>\n",
       "      <td>2024-04-06 18:52:47</td>\n",
       "      <td>2024-04-06 18:54:12</td>\n",
       "      <td>нет регистрации</td>\n",
       "      <td>нет в комнате</td>\n",
       "      <td>4</td>\n",
       "      <td>2022-07-02 18:52:47</td>\n",
       "      <td>2022-07-02 18:54:12</td>\n",
       "      <td>Not defined</td>\n",
       "    </tr>\n",
       "  </tbody>\n",
       "</table>\n",
       "</div>"
      ],
      "text/plain": [
       "      code  passport button  tv_state  unit       day            cs_start  \\\n",
       "3   258106   1205697      В   включён     0  07.02.22 2024-04-06 16:50:18   \n",
       "44  258124   1210425      Б   включён     0  07.02.22 2024-04-06 17:57:43   \n",
       "41  258124   1210425      А   включён     0  07.02.22 2024-04-06 17:57:43   \n",
       "39  258122   1209804      А   включён     0  07.02.22 2024-04-06 17:40:40   \n",
       "28  258119   1209625      Б  выключен     1  09.02.22 2024-04-06 18:01:34   \n",
       "48  258128   1210930      А  выключен     0  07.02.22 2024-04-06 18:52:47   \n",
       "55  258130   1211011      А   включён     0  07.02.22 2024-04-06 19:01:00   \n",
       "23  258116   1209281      Д  выключен     0  07.02.22 2024-04-06 19:46:13   \n",
       "34  258121   1209774      Б  выключен     0  07.02.22 2024-04-06 17:33:19   \n",
       "50  258128   1210930      Б  выключен     0  07.02.22 2024-04-06 18:52:47   \n",
       "\n",
       "             cs_finish               see        display  \\\n",
       "3  2024-04-06 16:53:17   нет регистрации      в комнате   \n",
       "44 2024-04-06 18:07:25   нет регистрации      в комнате   \n",
       "41 2024-04-06 18:07:25  есть регистрация      в комнате   \n",
       "39 2024-04-06 17:42:43  есть регистрация      в комнате   \n",
       "28 2024-04-06 18:02:31   нет регистрации  нет в комнате   \n",
       "48 2024-04-06 18:54:12   нет регистрации  нет в комнате   \n",
       "55 2024-04-06 19:03:10  есть регистрация      в комнате   \n",
       "23 2024-04-06 19:47:07   нет регистрации  нет в комнате   \n",
       "34 2024-04-06 17:36:38   нет регистрации  нет в комнате   \n",
       "50 2024-04-06 18:54:12   нет регистрации  нет в комнате   \n",
       "\n",
       "    кол-во_человек_в_семье_4+        cs_day_begin          cs_day_end  \\\n",
       "3                           3 2022-07-02 16:50:18 2022-07-02 16:53:17   \n",
       "44                          2 2022-07-02 17:57:43 2022-07-02 18:07:25   \n",
       "41                          2 2022-07-02 17:57:43 2022-07-02 18:07:25   \n",
       "39                          1 2022-07-02 17:40:40 2022-07-02 17:42:43   \n",
       "28                          2 2022-09-02 18:01:34 2022-09-02 18:02:31   \n",
       "48                          4 2022-07-02 18:52:47 2022-07-02 18:54:12   \n",
       "55                          2 2022-07-02 19:01:00 2022-07-02 19:03:10   \n",
       "23                          4 2022-07-02 19:46:13 2022-07-02 19:47:07   \n",
       "34                          3 2022-07-02 17:33:19 2022-07-02 17:36:38   \n",
       "50                          4 2022-07-02 18:52:47 2022-07-02 18:54:12   \n",
       "\n",
       "    devicestate  \n",
       "3   Not defined  \n",
       "44  Not defined  \n",
       "41  Not defined  \n",
       "39  Not defined  \n",
       "28  Not defined  \n",
       "48  Not defined  \n",
       "55  Not defined  \n",
       "23  Not defined  \n",
       "34  Not defined  \n",
       "50  Not defined  "
      ]
     },
     "execution_count": 16,
     "metadata": {},
     "output_type": "execute_result"
    }
   ],
   "source": [
    "sur[sur.devicestate == 'Not defined'].sample(10, random_state=10)"
   ]
  },
  {
   "cell_type": "markdown",
   "metadata": {},
   "source": [
    "Не наблюдается особых закономерностей отсутствия фактического статуса телевизора."
   ]
  },
  {
   "cell_type": "markdown",
   "metadata": {},
   "source": [
    "Условие задачи: \"Количество ситуаций (абс, %), когда прибор фактически выключен (данные в таблице src_OnOff), а респондент утверждает, что включен\""
   ]
  },
  {
   "cell_type": "code",
   "execution_count": 17,
   "metadata": {},
   "outputs": [
    {
     "name": "stdout",
     "output_type": "stream",
     "text": [
      "Количество ситуаций, когда прибор фактически выключен, а респондент утверждает, что включен, равно: 9\n",
      "В процентном отношении такое количество: 4.35%\n"
     ]
    }
   ],
   "source": [
    "result1 = len(sur[(sur['devicestate'] == 'OFF') & \n",
    "                          (sur['tv_state'] == 'включён')])\n",
    "print('Количество ситуаций, когда прибор фактически выключен,' \n",
    "      ' а респондент утверждает, что включен, равно:', result1)\n",
    "print('В процентном отношении такое количество: {:.2%}'.\n",
    "      format(result1/sur.devicestate.shape[0]))"
   ]
  },
  {
   "cell_type": "markdown",
   "metadata": {},
   "source": [
    "Условие задачи: \"Количество ситуаций (абс, %), когда прибор фактически включен (данные в таблице src_OnOff), а респондент утверждает, что выключен\""
   ]
  },
  {
   "cell_type": "code",
   "execution_count": 18,
   "metadata": {},
   "outputs": [
    {
     "name": "stdout",
     "output_type": "stream",
     "text": [
      "Количество ситуаций, когда прибор фактически включен, а респондент утверждает, что выключен, равно: 43\n",
      "В процентном отношении такое количество: 20.77%\n"
     ]
    }
   ],
   "source": [
    "result2 = len(sur[(sur['devicestate'] == 'ON') & \n",
    "                          (sur['tv_state'] == 'выключен')])\n",
    "print('Количество ситуаций, когда прибор фактически включен,' \n",
    "      ' а респондент утверждает, что выключен, равно:', result2)\n",
    "print('В процентном отношении такое количество: {:.2%}'.\n",
    "      format(result2/sur.devicestate.shape[0]))"
   ]
  },
  {
   "cell_type": "markdown",
   "metadata": {},
   "source": [
    "Выделить ДХ с размером более 1 человека, среди них ситуации, телевизор фактически включен, респондент по данным опроса находится в комнате с включенным телевизором, регистрации нет, а у других респондентов в этом ДХ регистрация на этом телевизоре есть. Необходимо сгруппировать результат в зависимости от размера ДХ. "
   ]
  },
  {
   "cell_type": "code",
   "execution_count": 19,
   "metadata": {},
   "outputs": [
    {
     "name": "stdout",
     "output_type": "stream",
     "text": [
      "                           code  passport  button  tv_state  unit  day  \\\n",
      "кол-во_человек_в_семье_4+                                                \n",
      "1                             0         0       0         0     0    0   \n",
      "2                             0         0       0         0     0    0   \n",
      "3                             0         0       0         0     0    0   \n",
      "4                             0         0       0         0     0    0   \n",
      "6                             0         0       0         0     0    0   \n",
      "7                             0         0       0         0     0    0   \n",
      "\n",
      "                           cs_start  cs_finish  see  display  \\\n",
      "кол-во_человек_в_семье_4+                                      \n",
      "1                                 0          0    0        0   \n",
      "2                                 0          0    0        0   \n",
      "3                                 0          0    0        0   \n",
      "4                                 0          0    0        0   \n",
      "6                                 0          0    0        0   \n",
      "7                                 0          0    0        0   \n",
      "\n",
      "                           кол-во_человек_в_семье_4+  cs_day_begin  \\\n",
      "кол-во_человек_в_семье_4+                                            \n",
      "1                                                  0             0   \n",
      "2                                                  0             0   \n",
      "3                                                  0             0   \n",
      "4                                                  0             0   \n",
      "6                                                  0             0   \n",
      "7                                                  0             0   \n",
      "\n",
      "                           cs_day_end  devicestate  \n",
      "кол-во_человек_в_семье_4+                           \n",
      "1                                   0            0  \n",
      "2                                   0            0  \n",
      "3                                   0            0  \n",
      "4                                   0            0  \n",
      "6                                   0            0  \n",
      "7                                   0            0  \n"
     ]
    }
   ],
   "source": [
    "df = sur.groupby(['кол-во_человек_в_семье_4+']).\\\n",
    "    apply(lambda x: x[x['devicestate'] == 'ON'] \\\n",
    "          [x['display'] == 'в комнате'] \\\n",
    "          [x['tv_state'] == 'включён'] \\\n",
    "          [x['see'] == 'нет регистрации'].count()\n",
    "         )\n",
    "print(df)"
   ]
  },
  {
   "cell_type": "markdown",
   "metadata": {},
   "source": [
    "**Домохозяйств с условиями**:\n",
    "- телевизор фактически включен: [x['devicestate'] == 'ON'],\n",
    "- респондент находится в комнате: [x['display'] == 'в комнате'],\n",
    "- респондент с включенным телевизором: [x['tv_state'] == 'включён'],\n",
    "- регистрации нет: [x['see'] == 'нет регистрации']\n",
    "- у других респондентов в этом ДХ регистрация на этом телевизоре есть\n",
    "\n",
    "**не существует**."
   ]
  },
  {
   "cell_type": "code",
   "execution_count": 20,
   "metadata": {},
   "outputs": [
    {
     "data": {
      "image/png": "[encoded data removed]",
      "text/plain": [
       "<Figure size 600x300 with 1 Axes>"
      ]
     },
     "metadata": {},
     "output_type": "display_data"
    }
   ],
   "source": [
    "plt.figure(figsize=(6, 3))\n",
    "my_plot = sns.countplot(x = 'кол-во_человек_в_семье_4+', data = sur,\n",
    "                        order=sur['кол-во_человек_в_семье_4+'].value_counts().index);\n",
    "plt.title('Распределение домохозяйств по количеству людей.', size=10)\n",
    "plt.xlabel('Количество людей.', size=10)\n",
    "plt.ylabel('Количество домохозяйств.', size=10)\n",
    "my_plot.set_xticklabels(my_plot.get_xticklabels(),\n",
    "                        horizontalalignment='center')\n",
    "\n",
    "plt.show()"
   ]
  },
  {
   "cell_type": "markdown",
   "metadata": {},
   "source": [
    "Больше всего домохозяйст с 3 членами семьи. Далее идут те, где 4 и 2 члена семьи. Максимально в домохозяйстве зафиксировано 7 членов семьи."
   ]
  },
  {
   "cell_type": "markdown",
   "metadata": {},
   "source": [
    "## <a id='toc1_4_'></a>[Общий вывод](#toc0_)"
   ]
  },
  {
   "cell_type": "markdown",
   "metadata": {},
   "source": [
    "Данные по опросу пользователей телевизоров собраны в период с 2024-04-05 03:05:31 по  2024-04-05 21:00:16.\n",
    "\n",
    "В файле src_OnOff.csv находится 642_134 записи по фактическому включению/выключению пиплметра, а в файле src_survey.csv - выборка из 207 записей с результатами опроса клиентов телевизионной компании.\n",
    "\n",
    "Была проведена предобработка и выполнен анализ.\n",
    "\n",
    "Количество ситуаций, когда прибор фактически выключен, а респондент утверждает, что включен, равно: 9.\n",
    "В процентном отношении такое количество: **4.35%**.\n",
    "\n",
    "Количество ситуаций, когда прибор фактически включен, а респондент утверждает, что выключен, равно: 43.\n",
    "В процентном отношении такое количество: **20.77%**.\n",
    "\n",
    "**Домохозяйств с условиями**:\n",
    "- телевизор фактически включен: [x['devicestate'] == 'ON'],\n",
    "- респондент находится в комнате: [x['display'] == 'в комнате'],\n",
    "- респондент с включенным телевизором: [x['tv_state'] == 'включён'],\n",
    "- регистрации нет: [x['see'] == 'нет регистрации']\n",
    "- у других респондентов в этом ДХ регистрация на этом телевизоре есть\n",
    "\n",
    "**не существует**.\n",
    "\n",
    "Больше всего домохозяйст с 3 членами семьи. Далее идут те, где 4 и 2 члена семьи. Максимально в домохозяйстве зафиксировано 7 членов семьи."
   ]
  }
 ],
 "metadata": {
  "kernelspec": {
   "display_name": ".venv",
   "language": "python",
   "name": "python3"
  },
  "language_info": {
   "codemirror_mode": {
    "name": "ipython",
    "version": 3
   },
   "file_extension": ".py",
   "mimetype": "text/x-python",
   "name": "python",
   "nbconvert_exporter": "python",
   "pygments_lexer": "ipython3",
   "version": "3.11.5"
  }
 },
 "nbformat": 4,
 "nbformat_minor": 2
}
